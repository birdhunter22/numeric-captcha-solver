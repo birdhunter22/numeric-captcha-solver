{
 "cells": [
  {
   "cell_type": "markdown",
   "metadata": {},
   "source": [
    "# Training a CNN for image classification"
   ]
  },
  {
   "cell_type": "markdown",
   "metadata": {},
   "source": [
    "## importing libraries"
   ]
  },
  {
   "cell_type": "code",
   "execution_count": 1,
   "metadata": {},
   "outputs": [
    {
     "name": "stderr",
     "output_type": "stream",
     "text": [
      "Using TensorFlow backend.\n"
     ]
    }
   ],
   "source": [
    "import cv2\n",
    "import pickle\n",
    "import os.path\n",
    "import numpy as np\n",
    "from imutils import paths\n",
    "from sklearn.preprocessing import LabelBinarizer\n",
    "from sklearn.model_selection import train_test_split\n",
    "from keras.models import Sequential\n",
    "from keras.layers.convolutional import Conv2D, MaxPooling2D\n",
    "from keras.layers.core import Flatten, Dense"
   ]
  },
  {
   "cell_type": "markdown",
   "metadata": {},
   "source": [
    "##  initializing the folder for number images folder , model file and model labels file"
   ]
  },
  {
   "cell_type": "code",
   "execution_count": 2,
   "metadata": {
    "collapsed": true
   },
   "outputs": [],
   "source": [
    "IMAGES_FOLDER = '/home/drake/Desktop/captcha scanner/training'\n",
    "MODEL_FILE = \"/home/drake/Desktop/captcha scanner/captcha_model.hdf5\"\n",
    "MODEL_LABELS_FILE = \"/home/drake/Desktop/captcha scanner/model_labels.dat\""
   ]
  },
  {
   "cell_type": "markdown",
   "metadata": {},
   "source": [
    "## initialize the data and labels"
   ]
  },
  {
   "cell_type": "code",
   "execution_count": 3,
   "metadata": {
    "collapsed": true
   },
   "outputs": [],
   "source": [
    "data = []\n",
    "labels = []"
   ]
  },
  {
   "cell_type": "markdown",
   "metadata": {},
   "source": [
    "## looping over images folder"
   ]
  },
  {
   "cell_type": "code",
   "execution_count": 4,
   "metadata": {
    "collapsed": true
   },
   "outputs": [],
   "source": [
    "\n",
    "for image_file in paths.list_images(IMAGES_FOLDER):\n",
    "    \n",
    "    image = cv2.imread(image_file)                     #reading the image\n",
    "    image = cv2.cvtColor(image, cv2.COLOR_BGR2GRAY)   #convert to gray scale\n",
    "\n",
    "    \n",
    "    image = cv2.resize(image, (25,25))               # Resize the number image\n",
    "    _,image = cv2.threshold(image,127,255,cv2.THRESH_BINARY) #binarize the image after resizing\n",
    "    \n",
    "\n",
    "    \n",
    "    image = np.expand_dims(image, axis=2)         # Add a third channel dimension \n",
    "\n",
    "    label = image_file.split(os.path.sep)[-2] # name of the folder for labelling of data asit will be' /././number/xyz.png'\n",
    "\n",
    "    data.append(image)\n",
    "    labels.append(label)"
   ]
  },
  {
   "cell_type": "markdown",
   "metadata": {
    "collapsed": true
   },
   "source": [
    "## scaling the pixel between 0 and 1"
   ]
  },
  {
   "cell_type": "code",
   "execution_count": 5,
   "metadata": {
    "collapsed": true
   },
   "outputs": [],
   "source": [
    "data = np.array(data, dtype=\"float\") / 255.0\n",
    "labels = np.array(labels)\n"
   ]
  },
  {
   "cell_type": "markdown",
   "metadata": {},
   "source": [
    "##  splitting the dataset"
   ]
  },
  {
   "cell_type": "code",
   "execution_count": 6,
   "metadata": {
    "collapsed": true
   },
   "outputs": [],
   "source": [
    "(X_train, X_test, Y_train, Y_test) = train_test_split(data, labels, test_size=0.25, random_state=0)"
   ]
  },
  {
   "cell_type": "markdown",
   "metadata": {},
   "source": [
    "##  one hot encoding the labels"
   ]
  },
  {
   "cell_type": "code",
   "execution_count": 7,
   "metadata": {
    "collapsed": true
   },
   "outputs": [],
   "source": [
    "lb = LabelBinarizer().fit(Y_train)\n",
    "Y_train = lb.transform(Y_train)\n",
    "Y_test = lb.transform(Y_test)\n"
   ]
  },
  {
   "cell_type": "markdown",
   "metadata": {},
   "source": [
    "## saving the mapping of one hot encoding for prediction decoding"
   ]
  },
  {
   "cell_type": "code",
   "execution_count": 8,
   "metadata": {
    "collapsed": true
   },
   "outputs": [],
   "source": [
    "with open(MODEL_LABELS_FILE, \"wb\") as f:\n",
    "    pickle.dump(lb, f)"
   ]
  },
  {
   "cell_type": "markdown",
   "metadata": {},
   "source": [
    "## MODEL building"
   ]
  },
  {
   "cell_type": "code",
   "execution_count": 9,
   "metadata": {},
   "outputs": [
    {
     "name": "stdout",
     "output_type": "stream",
     "text": [
      "WARNING:tensorflow:From /home/drake/anaconda3/lib/python3.6/site-packages/tensorflow/python/framework/op_def_library.py:263: colocate_with (from tensorflow.python.framework.ops) is deprecated and will be removed in a future version.\n",
      "Instructions for updating:\n",
      "Colocations handled automatically by placer.\n"
     ]
    }
   ],
   "source": [
    "model = Sequential()  #type of neural network\n",
    "\n",
    "model.add(Conv2D(25, (5, 5), padding=\"same\", input_shape=(25, 25, 1), activation=\"relu\")) #first convulation layer\n",
    "model.add(MaxPooling2D(pool_size=(2, 2), strides=(2, 2)))\n",
    "\n",
    "\n",
    "model.add(Conv2D(50, (5, 5), padding=\"same\", activation=\"relu\"))  # Second convolutional layer\n",
    "model.add(MaxPooling2D(pool_size=(2, 2), strides=(2, 2)))\n",
    "\n",
    "\n",
    "model.add(Flatten())                                            # fully connected Hidden layer with 450 nodes\n",
    "model.add(Dense(450, activation=\"relu\"))\n",
    "\n",
    "model.add(Dense(9, activation=\"softmax\"))  # Output layer with 9 nodes, one for each number"
   ]
  },
  {
   "cell_type": "markdown",
   "metadata": {},
   "source": [
    "## compiling the model"
   ]
  },
  {
   "cell_type": "code",
   "execution_count": 10,
   "metadata": {
    "collapsed": true
   },
   "outputs": [],
   "source": [
    "model.compile(loss=\"categorical_crossentropy\", optimizer=\"adam\", metrics=[\"accuracy\"])"
   ]
  },
  {
   "cell_type": "markdown",
   "metadata": {},
   "source": [
    "##  training the network"
   ]
  },
  {
   "cell_type": "code",
   "execution_count": 11,
   "metadata": {},
   "outputs": [
    {
     "name": "stdout",
     "output_type": "stream",
     "text": [
      "WARNING:tensorflow:From /home/drake/anaconda3/lib/python3.6/site-packages/tensorflow/python/ops/math_ops.py:3066: to_int32 (from tensorflow.python.ops.math_ops) is deprecated and will be removed in a future version.\n",
      "Instructions for updating:\n",
      "Use tf.cast instead.\n",
      "Train on 3517 samples, validate on 1173 samples\n",
      "Epoch 1/20\n",
      "3517/3517 [==============================] - 9s 3ms/step - loss: 0.2054 - acc: 0.9562 - val_loss: 0.0250 - val_acc: 0.9983\n",
      "Epoch 2/20\n",
      "3517/3517 [==============================] - 7s 2ms/step - loss: 0.0109 - acc: 0.9991 - val_loss: 0.0240 - val_acc: 0.9983\n",
      "Epoch 3/20\n",
      "3517/3517 [==============================] - 7s 2ms/step - loss: 0.0113 - acc: 0.9991 - val_loss: 0.0275 - val_acc: 0.9983\n",
      "Epoch 4/20\n",
      "3517/3517 [==============================] - 7s 2ms/step - loss: 0.0108 - acc: 0.9991 - val_loss: 0.0215 - val_acc: 0.9983\n",
      "Epoch 5/20\n",
      "3517/3517 [==============================] - 7s 2ms/step - loss: 0.0100 - acc: 0.9991 - val_loss: 0.0234 - val_acc: 0.9983\n",
      "Epoch 6/20\n",
      "3517/3517 [==============================] - 7s 2ms/step - loss: 0.0081 - acc: 0.9991 - val_loss: 0.0212 - val_acc: 0.9983\n",
      "Epoch 7/20\n",
      "3517/3517 [==============================] - 7s 2ms/step - loss: 0.0095 - acc: 0.9991 - val_loss: 0.0268 - val_acc: 0.9983\n",
      "Epoch 8/20\n",
      "3517/3517 [==============================] - 7s 2ms/step - loss: 0.0080 - acc: 0.9991 - val_loss: 0.0222 - val_acc: 0.9983\n",
      "Epoch 9/20\n",
      "3517/3517 [==============================] - 7s 2ms/step - loss: 0.0086 - acc: 0.9991 - val_loss: 0.0235 - val_acc: 0.9983\n",
      "Epoch 10/20\n",
      "3517/3517 [==============================] - 7s 2ms/step - loss: 0.0096 - acc: 0.9991 - val_loss: 0.0270 - val_acc: 0.9983\n",
      "Epoch 11/20\n",
      "3517/3517 [==============================] - 8s 2ms/step - loss: 0.0086 - acc: 0.9991 - val_loss: 0.0265 - val_acc: 0.9983\n",
      "Epoch 12/20\n",
      "3517/3517 [==============================] - 8s 2ms/step - loss: 0.0086 - acc: 0.9991 - val_loss: 0.0244 - val_acc: 0.9983\n",
      "Epoch 13/20\n",
      "3517/3517 [==============================] - 9s 3ms/step - loss: 0.0086 - acc: 0.9991 - val_loss: 0.0250 - val_acc: 0.9983\n",
      "Epoch 14/20\n",
      "3517/3517 [==============================] - 9s 2ms/step - loss: 0.0076 - acc: 0.9991 - val_loss: 0.0276 - val_acc: 0.9983\n",
      "Epoch 15/20\n",
      "3517/3517 [==============================] - 9s 2ms/step - loss: 0.0085 - acc: 0.9991 - val_loss: 0.0275 - val_acc: 0.9983\n",
      "Epoch 16/20\n",
      "3517/3517 [==============================] - 9s 2ms/step - loss: 0.0077 - acc: 0.9991 - val_loss: 0.0276 - val_acc: 0.9983\n",
      "Epoch 17/20\n",
      "3517/3517 [==============================] - 9s 2ms/step - loss: 0.0085 - acc: 0.9991 - val_loss: 0.0276 - val_acc: 0.9983\n",
      "Epoch 18/20\n",
      "3517/3517 [==============================] - 9s 3ms/step - loss: 0.0080 - acc: 0.9991 - val_loss: 0.0226 - val_acc: 0.9983\n",
      "Epoch 19/20\n",
      "3517/3517 [==============================] - 9s 3ms/step - loss: 0.0078 - acc: 0.9991 - val_loss: 0.0290 - val_acc: 0.9983\n",
      "Epoch 20/20\n",
      "3517/3517 [==============================] - 9s 3ms/step - loss: 0.0075 - acc: 0.9991 - val_loss: 0.0275 - val_acc: 0.9983\n"
     ]
    },
    {
     "data": {
      "text/plain": [
       "<keras.callbacks.History at 0x7f6a5ff1d390>"
      ]
     },
     "execution_count": 11,
     "metadata": {},
     "output_type": "execute_result"
    }
   ],
   "source": [
    "model.fit(X_train, Y_train, validation_data=(X_test, Y_test), batch_size=32, epochs=20, verbose=1)"
   ]
  },
  {
   "cell_type": "markdown",
   "metadata": {},
   "source": [
    "## saving the model"
   ]
  },
  {
   "cell_type": "code",
   "execution_count": 12,
   "metadata": {},
   "outputs": [],
   "source": [
    "model.save(MODEL_FILE)"
   ]
  },
  {
   "cell_type": "code",
   "execution_count": null,
   "metadata": {
    "collapsed": true
   },
   "outputs": [],
   "source": []
  }
 ],
 "metadata": {
  "kernelspec": {
   "display_name": "Python 3",
   "language": "python",
   "name": "python3"
  },
  "language_info": {
   "codemirror_mode": {
    "name": "ipython",
    "version": 3
   },
   "file_extension": ".py",
   "mimetype": "text/x-python",
   "name": "python",
   "nbconvert_exporter": "python",
   "pygments_lexer": "ipython3",
   "version": "3.6.3"
  }
 },
 "nbformat": 4,
 "nbformat_minor": 2
}
