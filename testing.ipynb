{
 "cells": [
  {
   "cell_type": "markdown",
   "metadata": {},
   "source": [
    "# testing the model on random unlabelled images"
   ]
  },
  {
   "cell_type": "markdown",
   "metadata": {},
   "source": [
    "## importing libraries"
   ]
  },
  {
   "cell_type": "code",
   "execution_count": 1,
   "metadata": {},
   "outputs": [
    {
     "name": "stderr",
     "output_type": "stream",
     "text": [
      "Using TensorFlow backend.\n"
     ]
    }
   ],
   "source": [
    "from keras.models import load_model\n",
    "from imutils import paths\n",
    "import numpy as np\n",
    "import imutils\n",
    "import cv2\n",
    "import pickle\n",
    "import glob\n",
    "import os\n",
    "import random\n",
    "import matplotlib.pyplot as plt\n",
    "%matplotlib inline"
   ]
  },
  {
   "cell_type": "markdown",
   "metadata": {},
   "source": [
    "## reading files  from unsolved captcha images and choosing a random image"
   ]
  },
  {
   "cell_type": "code",
   "execution_count": 2,
   "metadata": {
    "collapsed": true
   },
   "outputs": [],
   "source": [
    "files = glob.glob(os.path.join('/home/drake/Desktop/captcha scanner/unsolved-captchas/electoral-captchas',\"*\"))\n",
    "MODEL_FILE = \"/home/drake/Desktop/captcha scanner/captcha_model.hdf5\"\n",
    "MODEL_LABELS = \"/home/drake/Desktop/captcha scanner/model_labels.dat\"\n",
    "captcha_file= random.choice(files)"
   ]
  },
  {
   "cell_type": "markdown",
   "metadata": {},
   "source": [
    "## reading the unsolved captcha image"
   ]
  },
  {
   "cell_type": "code",
   "execution_count": 3,
   "metadata": {},
   "outputs": [
    {
     "data": {
      "text/plain": [
       "<matplotlib.image.AxesImage at 0x7faca54ba908>"
      ]
     },
     "execution_count": 3,
     "metadata": {},
     "output_type": "execute_result"
    },
    {
     "data": {
      "image/png": "[encoded data removed]",
      "text/plain": [
       "<matplotlib.figure.Figure at 0x7facac9ad1d0>"
      ]
     },
     "metadata": {},
     "output_type": "display_data"
    }
   ],
   "source": [
    "img = cv2.imread(captcha_file)\n",
    "plt.imshow(img, cmap='gray')"
   ]
  },
  {
   "cell_type": "markdown",
   "metadata": {},
   "source": [
    "##  reading the models label file for decoding of prediction"
   ]
  },
  {
   "cell_type": "code",
   "execution_count": 4,
   "metadata": {
    "collapsed": true
   },
   "outputs": [],
   "source": [
    "with open(MODEL_LABELS, \"rb\") as f:\n",
    "    lb = pickle.load(f)"
   ]
  },
  {
   "cell_type": "markdown",
   "metadata": {},
   "source": [
    "##  loading the trained model"
   ]
  },
  {
   "cell_type": "code",
   "execution_count": 5,
   "metadata": {},
   "outputs": [
    {
     "name": "stdout",
     "output_type": "stream",
     "text": [
      "WARNING:tensorflow:From /home/drake/anaconda3/lib/python3.6/site-packages/tensorflow/python/framework/op_def_library.py:263: colocate_with (from tensorflow.python.framework.ops) is deprecated and will be removed in a future version.\n",
      "Instructions for updating:\n",
      "Colocations handled automatically by placer.\n",
      "WARNING:tensorflow:From /home/drake/anaconda3/lib/python3.6/site-packages/tensorflow/python/ops/math_ops.py:3066: to_int32 (from tensorflow.python.ops.math_ops) is deprecated and will be removed in a future version.\n",
      "Instructions for updating:\n",
      "Use tf.cast instead.\n"
     ]
    }
   ],
   "source": [
    "model = load_model(MODEL_FILE)"
   ]
  },
  {
   "cell_type": "markdown",
   "metadata": {},
   "source": [
    "##  segmenting the unsolved captcha image"
   ]
  },
  {
   "cell_type": "markdown",
   "metadata": {},
   "source": [
    "###  refer to segmentation example notebook for detailed explanation"
   ]
  },
  {
   "cell_type": "code",
   "execution_count": 6,
   "metadata": {},
   "outputs": [],
   "source": [
    "filename = os.path.basename(captcha_file)\n",
    "captcha_text = os.path.splitext(filename)[-2]\n",
    "image = cv2.imread(captcha_file)                 #read image\n",
    "gray = cv2.cvtColor(image, cv2.COLOR_BGR2GRAY)    #convert to gray scale\n",
    "thresh = cv2.threshold(gray, 0, 255, cv2.THRESH_BINARY_INV | cv2.THRESH_OTSU)[1]  #binary inversion\n",
    "contours,_ = cv2.findContours(thresh.copy(), cv2.RETR_EXTERNAL, cv2.CHAIN_APPROX_SIMPLE) #finding contours\n",
    "image_regions = []\n",
    "for contour in contours:                                       \n",
    "    (x, y, w, h) = cv2.boundingRect(contour)                                   # marking the contour regions\n",
    "    if w / h > 1.25:\n",
    "        half_width = int(w / 2)\n",
    "        image_regions.append((x, y, half_width, h))\n",
    "        image_regions.append((x + half_width, y, half_width, h))\n",
    "    else:\n",
    "        image_regions.append((x, y, w, h))\n",
    "image_regions = sorted(image_regions, key=lambda x: x[0])\n",
    "i=0\n",
    "count=0\n",
    "predictions=[]\n",
    "for letter_bounding_box in image_regions:             # bounding boxes around those regions and segmenting\n",
    "    x,y,w,h = letter_bounding_box\n",
    "    x,y,w,h= int(x), int(y), int(w), int(h)\n",
    "    letter_image = gray[y - 2:y + h + 2, x - 2:x + w + 2]      #segmenting the box on the original gray image\n",
    "    letter_image= cv2.resize(letter_image,(25,25))              # resizing the segmented number image to input in the trained model\n",
    "    _,letter_image = cv2.threshold(letter_image,127,255,cv2.THRESH_BINARY) # binarizing the image\n",
    "    letter_image = np.expand_dims(letter_image, axis=2)\n",
    "    letter_image = np.expand_dims(letter_image, axis=0)\n",
    "    prediction = model.predict(letter_image)                    # predicting\n",
    "    letter = lb.inverse_transform(prediction)[0]                # decoding the prediction\n",
    "    predictions.append(letter)\n"
   ]
  },
  {
   "cell_type": "markdown",
   "metadata": {},
   "source": [
    "# prediction"
   ]
  },
  {
   "cell_type": "code",
   "execution_count": 7,
   "metadata": {},
   "outputs": [
    {
     "name": "stdout",
     "output_type": "stream",
     "text": [
      "['5', '6', '7', '5', '5']\n"
     ]
    }
   ],
   "source": [
    "print(predictions)"
   ]
  },
  {
   "cell_type": "markdown",
   "metadata": {},
   "source": [
    "# the original image"
   ]
  },
  {
   "cell_type": "code",
   "execution_count": 8,
   "metadata": {},
   "outputs": [
    {
     "data": {
      "text/plain": [
       "<matplotlib.image.AxesImage at 0x7faca380e710>"
      ]
     },
     "execution_count": 8,
     "metadata": {},
     "output_type": "execute_result"
    },
    {
     "data": {
      "image/png": "[encoded data removed]",
      "text/plain": [
       "<matplotlib.figure.Figure at 0x7faca45ae898>"
      ]
     },
     "metadata": {},
     "output_type": "display_data"
    }
   ],
   "source": [
    "plt.imshow(img, cmap='gray')"
   ]
  }
 ],
 "metadata": {
  "kernelspec": {
   "display_name": "Python 3",
   "language": "python",
   "name": "python3"
  },
  "language_info": {
   "codemirror_mode": {
    "name": "ipython",
    "version": 3
   },
   "file_extension": ".py",
   "mimetype": "text/x-python",
   "name": "python",
   "nbconvert_exporter": "python",
   "pygments_lexer": "ipython3",
   "version": "3.6.3"
  }
 },
 "nbformat": 4,
 "nbformat_minor": 2
}
