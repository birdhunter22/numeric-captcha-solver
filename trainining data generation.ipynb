{
 "cells": [
  {
   "cell_type": "markdown",
   "metadata": {},
   "source": [
    "# Training data generation "
   ]
  },
  {
   "cell_type": "markdown",
   "metadata": {},
   "source": [
    "## importing libraries"
   ]
  },
  {
   "cell_type": "code",
   "execution_count": 1,
   "metadata": {
    "collapsed": true
   },
   "outputs": [],
   "source": [
    "import os\n",
    "import os.path\n",
    "import cv2\n",
    "import glob\n",
    "import imutils\n",
    "import matplotlib.pyplot as plt\n",
    "%matplotlib inline"
   ]
  },
  {
   "cell_type": "markdown",
   "metadata": {},
   "source": [
    "## glob.glob used to find all the path names in the respective folder"
   ]
  },
  {
   "cell_type": "code",
   "execution_count": 2,
   "metadata": {
    "collapsed": true
   },
   "outputs": [],
   "source": [
    "image_files = glob.glob(os.path.join('/home/drake/Desktop/captcha scanner/solved-captchas/electoral-tagged', \"*\"))\n",
    "OUTPUT_FOLDER='/home/drake/Desktop/captcha scanner/training'"
   ]
  },
  {
   "cell_type": "markdown",
   "metadata": {},
   "source": [
    "### please refer to segmentation exmaple notebook for image numbers segmentation"
   ]
  },
  {
   "cell_type": "code",
   "execution_count": 3,
   "metadata": {
    "collapsed": true
   },
   "outputs": [],
   "source": [
    "for (i, captcha_file) in enumerate(image_files):             #iterating over image files stored in list\n",
    "    filename = os.path.basename(captcha_file)               \n",
    "    captcha_text = os.path.splitext(filename)[-2]\n",
    "    #print(captcha_text)\n",
    "    image = cv2.imread(captcha_file)                  #read the file\n",
    "    gray = cv2.cvtColor(image, cv2.COLOR_BGR2GRAY)          #converting to grayscale\n",
    "    thresh = cv2.threshold(gray, 0, 255, cv2.THRESH_BINARY_INV | cv2.THRESH_OTSU)[1]  # binarize in ivert color\n",
    "    contours,_ = cv2.findContours(thresh.copy(), cv2.RETR_EXTERNAL, cv2.CHAIN_APPROX_SIMPLE) #finding contours\n",
    "    image_regions = []                                              \n",
    "    for contour in contours:                                  #drawing contours\n",
    "        (x, y, w, h) = cv2.boundingRect(contour)\n",
    "        if w / h > 1.25:\n",
    "            half_width = int(w / 2)\n",
    "            image_regions.append((x, y, half_width, h))\n",
    "            image_regions.append((x + half_width, y, half_width, h))\n",
    "        else:\n",
    "            image_regions.append((x, y, w, h))\n",
    "    image_regions = sorted(image_regions, key=lambda x: x[0])\n",
    "    if len(image_regions) != len(captcha_text):\n",
    "        continue\n",
    "    i=0    #counter for iterating over the image label\n",
    "    count=0  #counter for naming the images in their respective folder\n",
    "    for letter_bounding_box in image_regions:                             #bounding boxes\n",
    "        x,y,w,h = letter_bounding_box\n",
    "        x,y,w,h= int(x), int(y), int(w), int(h)\n",
    "        letter_image = gray[y - 2:y + h + 2, x - 2:x + w + 2]\n",
    "        _,letter_image= cv2.threshold(letter_image,127,255,cv2.THRESH_BINARY)  #  again binarizing the image of individual numebers\n",
    "        title = captcha_text[i]                       # determining the label of the number in the captcha\n",
    "        # Get the folder to save the image in\n",
    "        save_path = os.path.join(OUTPUT_FOLDER, title)\n",
    "        # if the output directory does not exist, create it\n",
    "        if not os.path.exists(save_path):\n",
    "            os.makedirs(save_path)\n",
    "        os.chdir(save_path)\n",
    "        count=len(os.listdir(save_path))   #checking the number of images in the folder to increment the iterater for labeling\n",
    "        count=count+1\n",
    "        count= str(count)+ '.jpg'\n",
    "        cv2.imwrite(count, letter_image) #writing the file in the respective folder\n",
    "        i=i+1\n",
    "        \n",
    "        \n",
    "\n",
    "        \n",
    "    \n",
    "    "
   ]
  },
  {
   "cell_type": "code",
   "execution_count": null,
   "metadata": {
    "collapsed": true
   },
   "outputs": [],
   "source": []
  }
 ],
 "metadata": {
  "kernelspec": {
   "display_name": "Python 3",
   "language": "python",
   "name": "python3"
  },
  "language_info": {
   "codemirror_mode": {
    "name": "ipython",
    "version": 3
   },
   "file_extension": ".py",
   "mimetype": "text/x-python",
   "name": "python",
   "nbconvert_exporter": "python",
   "pygments_lexer": "ipython3",
   "version": "3.6.3"
  }
 },
 "nbformat": 4,
 "nbformat_minor": 2
}
